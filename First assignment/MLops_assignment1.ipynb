{
  "cells": [
    {
      "cell_type": "markdown",
      "metadata": {
        "id": "LlIGlcIiywyq"
      },
      "source": [
        "## MLOps Assignment 1"
      ]
    },
    {
      "cell_type": "markdown",
      "metadata": {
        "id": "i3GplYoCqa89"
      },
      "source": [
        "Q1. Print multiplication table from 1 to 10"
      ]
    },
    {
      "cell_type": "code",
      "execution_count": 7,
      "metadata": {
        "id": "Vfm5RBY0qbIs"
      },
      "outputs": [
        {
          "name": "stdout",
          "output_type": "stream",
          "text": [
            "Table of 1\n",
            "1 x 1 = 1\n",
            "1 x 2 = 2\n",
            "1 x 3 = 3\n",
            "1 x 4 = 4\n",
            "1 x 5 = 5\n",
            "1 x 6 = 6\n",
            "1 x 7 = 7\n",
            "1 x 8 = 8\n",
            "1 x 9 = 9\n",
            "1 x 10 = 10\n",
            "Table of 2\n",
            "2 x 1 = 2\n",
            "2 x 2 = 4\n",
            "2 x 3 = 6\n",
            "2 x 4 = 8\n",
            "2 x 5 = 10\n",
            "2 x 6 = 12\n",
            "2 x 7 = 14\n",
            "2 x 8 = 16\n",
            "2 x 9 = 18\n",
            "2 x 10 = 20\n",
            "Table of 3\n",
            "3 x 1 = 3\n",
            "3 x 2 = 6\n",
            "3 x 3 = 9\n",
            "3 x 4 = 12\n",
            "3 x 5 = 15\n",
            "3 x 6 = 18\n",
            "3 x 7 = 21\n",
            "3 x 8 = 24\n",
            "3 x 9 = 27\n",
            "3 x 10 = 30\n",
            "Table of 4\n",
            "4 x 1 = 4\n",
            "4 x 2 = 8\n",
            "4 x 3 = 12\n",
            "4 x 4 = 16\n",
            "4 x 5 = 20\n",
            "4 x 6 = 24\n",
            "4 x 7 = 28\n",
            "4 x 8 = 32\n",
            "4 x 9 = 36\n",
            "4 x 10 = 40\n",
            "Table of 5\n",
            "5 x 1 = 5\n",
            "5 x 2 = 10\n",
            "5 x 3 = 15\n",
            "5 x 4 = 20\n",
            "5 x 5 = 25\n",
            "5 x 6 = 30\n",
            "5 x 7 = 35\n",
            "5 x 8 = 40\n",
            "5 x 9 = 45\n",
            "5 x 10 = 50\n",
            "Table of 6\n",
            "6 x 1 = 6\n",
            "6 x 2 = 12\n",
            "6 x 3 = 18\n",
            "6 x 4 = 24\n",
            "6 x 5 = 30\n",
            "6 x 6 = 36\n",
            "6 x 7 = 42\n",
            "6 x 8 = 48\n",
            "6 x 9 = 54\n",
            "6 x 10 = 60\n",
            "Table of 7\n",
            "7 x 1 = 7\n",
            "7 x 2 = 14\n",
            "7 x 3 = 21\n",
            "7 x 4 = 28\n",
            "7 x 5 = 35\n",
            "7 x 6 = 42\n",
            "7 x 7 = 49\n",
            "7 x 8 = 56\n",
            "7 x 9 = 63\n",
            "7 x 10 = 70\n",
            "Table of 8\n",
            "8 x 1 = 8\n",
            "8 x 2 = 16\n",
            "8 x 3 = 24\n",
            "8 x 4 = 32\n",
            "8 x 5 = 40\n",
            "8 x 6 = 48\n",
            "8 x 7 = 56\n",
            "8 x 8 = 64\n",
            "8 x 9 = 72\n",
            "8 x 10 = 80\n",
            "Table of 9\n",
            "9 x 1 = 9\n",
            "9 x 2 = 18\n",
            "9 x 3 = 27\n",
            "9 x 4 = 36\n",
            "9 x 5 = 45\n",
            "9 x 6 = 54\n",
            "9 x 7 = 63\n",
            "9 x 8 = 72\n",
            "9 x 9 = 81\n",
            "9 x 10 = 90\n",
            "Table of 10\n",
            "10 x 1 = 10\n",
            "10 x 2 = 20\n",
            "10 x 3 = 30\n",
            "10 x 4 = 40\n",
            "10 x 5 = 50\n",
            "10 x 6 = 60\n",
            "10 x 7 = 70\n",
            "10 x 8 = 80\n",
            "10 x 9 = 90\n",
            "10 x 10 = 100\n"
          ]
        }
      ],
      "source": [
        "#write here and run the cell\n",
        "def mul():\n",
        "    for i in range(1,11):\n",
        "        print(f\"Table of {i}\")\n",
        "        for j in range(1,11):\n",
        "            print(f\"{i} x {j} = {i * j}\")\n",
        "mul()"
      ]
    },
    {
      "cell_type": "markdown",
      "metadata": {
        "id": "kCxjfhGtiMFb"
      },
      "source": [
        "Q2. Given two lists, l1 and l2, write a program to create a third list l3 by picking an odd-index element from the list l1 and even index elements from the list l2."
      ]
    },
    {
      "cell_type": "code",
      "execution_count": 12,
      "metadata": {
        "id": "r1lkQPN8iNSc"
      },
      "outputs": [
        {
          "name": "stdout",
          "output_type": "stream",
          "text": [
            "List l1: [20, 10, 23, 45, 60]\n",
            "List l2: [1, 2, 3, 4, 5]\n",
            "List l3: [10, 45, 1, 3, 5]\n"
          ]
        }
      ],
      "source": [
        "#write here and run the cell\n",
        "int1 = input(\"Enter the elements of the list separated by spaces: \")\n",
        "int2 = input(\"Enter the elements of the list separated by spaces: \")\n",
        "l1 = list(map(int, int1.split()))\n",
        "l2 = list(map(int, int2.split()))\n",
        "print(\"List l1:\",l1)\n",
        "print(\"List l2:\",l2)\n",
        "\n",
        "l3=[]\n",
        "\n",
        "for i in range(len(l1)):\n",
        "    if i % 2 != 0:\n",
        "        l3.append(l1[i])\n",
        "for j in range(len(l2)):\n",
        "    if j % 2 == 0:\n",
        "        l3.append(l2[j])\n",
        "\n",
        "print(\"List l3:\",l3)\n"
      ]
    },
    {
      "cell_type": "markdown",
      "metadata": {
        "id": "GBb0FgtIq4YA"
      },
      "source": [
        "Q3. Print a this pattern(*)\n",
        "\n",
        "    * * * * * * * *\n",
        "      * * * * * * *\n",
        "        * * * * * *\n",
        "          * * * * *\n",
        "            * * * *\n",
        "              * * *\n",
        "                * *\n",
        "                  *"
      ]
    },
    {
      "cell_type": "code",
      "execution_count": 14,
      "metadata": {
        "id": "rfbGzuA3rcGs"
      },
      "outputs": [
        {
          "name": "stdout",
          "output_type": "stream",
          "text": [
            "********\n",
            " *******\n",
            "  ******\n",
            "   *****\n",
            "    ****\n",
            "     ***\n",
            "      **\n",
            "       *\n"
          ]
        }
      ],
      "source": [
        "#write here and run the cell\n",
        "r = 8\n",
        "for i in range(r,0,-1):\n",
        "    s = r - i\n",
        "    for _ in range(s):\n",
        "        print(' ', end='')\n",
        "    for _ in range(i):\n",
        "        print('*', end='')\n",
        "    print()"
      ]
    },
    {
      "cell_type": "markdown",
      "metadata": {
        "id": "WIblh-z6s9me"
      },
      "source": [
        "Q4. Create a function named `exponent(base, exp)` that returns an integer representing the result of raising `base` to the power of `exp`.\n",
        "`exp` is >0.\n",
        "\n",
        "base = 5\n",
        "exponent = 4\n",
        "\n",
        "5 raises to the power of 4 is: 625\n",
        "i.e. (5 *5 * 5 *5 = 625)"
      ]
    },
    {
      "cell_type": "code",
      "execution_count": 1,
      "metadata": {
        "id": "6-KKDQNWs8eQ"
      },
      "outputs": [
        {
          "name": "stdout",
          "output_type": "stream",
          "text": [
            "5 raised to the power of 4 is: 625\n"
          ]
        }
      ],
      "source": [
        "#write here and run the cell\n",
        "def power(base, exp):\n",
        "    result = 1\n",
        "    for i in range(exp):\n",
        "        result = result * base\n",
        "    return result\n",
        "base = 5\n",
        "exp = 4\n",
        "print(f\"{base} raised to the power of {exp} is: {power(base, exp)}\")\n"
      ]
    },
    {
      "cell_type": "markdown",
      "metadata": {
        "id": "_QUrD8h6t6PN"
      },
      "source": [
        "Q5. Create a file named test.txt and insert the following content into it.\n",
        "\n",
        "    line1\n",
        "    line2\n",
        "    line3\n",
        "    line4\n",
        "    line5\n",
        "    line6\n",
        "    line7\n",
        "\n",
        "Write a program which write all content of a given file (test.txt) into a new file by skipping line number 5 (line5)"
      ]
    },
    {
      "cell_type": "code",
      "execution_count": 28,
      "metadata": {
        "id": "I2KF1QHKrq-s"
      },
      "outputs": [
        {
          "name": "stdout",
          "output_type": "stream",
          "text": [
            "line1\n",
            "line2\n",
            "line3\n",
            "line4\n",
            "line6\n",
            "line7\n",
            "\n"
          ]
        }
      ],
      "source": [
        "with open('test.txt', 'w') as file:\n",
        "    file.write(\"line1\\n\")\n",
        "    file.write(\"line2\\n\")\n",
        "    file.write(\"line3\\n\")\n",
        "    file.write(\"line4\\n\")\n",
        "    file.write(\"line5\\n\")\n",
        "    file.write(\"line6\\n\")\n",
        "    file.write(\"line7\\n\")\n",
        "\n",
        "with open('test.txt', 'r') as infile:\n",
        "    lines = infile.readlines() \n",
        "with open('output.txt', 'w') as outfile:\n",
        "    for index in range(len(lines)):\n",
        "        if index != 4: \n",
        "            outfile.write(lines[index])\n",
        "with open('output.txt', 'r') as file:\n",
        "    content = file.read()\n",
        "    print(content)"
      ]
    },
    {
      "cell_type": "markdown",
      "metadata": {
        "id": "6cdAt0ONvMVI"
      },
      "source": [
        "Q6. Write a program which receives three names from the user in a single input() function call.\n",
        "\n",
        "    Input: IIT JODHPUR RAJASTHAN\n",
        "\n",
        "    Output:\n",
        "    IIT\n",
        "    JODHPUR\n",
        "    RAJASTHAN"
      ]
    },
    {
      "cell_type": "code",
      "execution_count": 39,
      "metadata": {
        "id": "Mo0wyeB6vJJm"
      },
      "outputs": [
        {
          "name": "stdout",
          "output_type": "stream",
          "text": [
            "Output:\n",
            "IIT\n",
            "JODHPUR\n",
            "RAJASTHAN\n"
          ]
        }
      ],
      "source": [
        "#write here and run the cell\n",
        "n = input(\"Input:\")\n",
        "r = n.split()\n",
        "print(\"Output:\")\n",
        "for i in r:\n",
        "    print(i)"
      ]
    },
    {
      "cell_type": "markdown",
      "metadata": {
        "id": "jwSKpPcYv_De"
      },
      "source": [
        "Q7. Write a program to define a function called show_employee() with the following requirements:\n",
        "\n",
        "*   It should take the employee's name and salary as input and display both.\n",
        "*   If the salary is not provided in the function call, assign a default value of 9000 to it.\n",
        "\n",
        "After passing:\n",
        "\n",
        "showEmployee(\"Bill Gates\", 12000)\n",
        "\n",
        "showEmployee(\"Elon Musk\")\n",
        "\n",
        "It should print:\n",
        "\n",
        "Name: Bill Gates salary: 12000\n",
        "\n",
        "Name: Elon Musk salary: 9000"
      ]
    },
    {
      "cell_type": "code",
      "execution_count": 43,
      "metadata": {
        "id": "yyzhkF1Lv94j"
      },
      "outputs": [
        {
          "name": "stdout",
          "output_type": "stream",
          "text": [
            "Name: Elon  Musk salary: 9000\n"
          ]
        }
      ],
      "source": [
        "#write here and run the cell\n",
        "def Emp():\n",
        "    name = input()\n",
        "    salary_input = input()\n",
        "    if salary_input == \"\":\n",
        "        salary = 9000\n",
        "    else:\n",
        "        salary = int(salary_input)\n",
        "    print(\"Name:\", name, \"salary:\", salary)\n",
        "Emp()"
      ]
    },
    {
      "cell_type": "markdown",
      "metadata": {
        "id": "BAtCQH3pxXWV"
      },
      "source": [
        "Q8. Write a program to identify words that contain both letters and digits from a given input string.\n",
        "\n",
        "    Given str1 = \"Harry25 is Gryffindor Wizard50 and cursed\"\n",
        "\n",
        "    Output:\n",
        "    Harry25\n",
        "    Wizard50"
      ]
    },
    {
      "cell_type": "code",
      "execution_count": 44,
      "metadata": {
        "id": "bqbyxYdqvJHY"
      },
      "outputs": [
        {
          "name": "stdout",
          "output_type": "stream",
          "text": [
            "Output:  ['Harry25', 'Wizard50']\n"
          ]
        }
      ],
      "source": [
        "#write here and run the cell\n",
        "def n(word):\n",
        "    letter = 0\n",
        "    digit = 0\n",
        "    for char in word:\n",
        "        if char.isalpha():\n",
        "            letter = 1\n",
        "        elif char.isdigit():\n",
        "            digit = 1\n",
        "        if letter and digit:\n",
        "            break\n",
        "    return letter and digit\n",
        "def find(i):\n",
        "    words = i.split()\n",
        "    result = []\n",
        "    for word in words:\n",
        "        if n(word):\n",
        "            result.append(word)\n",
        "    return result\n",
        "input = input()\n",
        "w = find(input)\n",
        "print(\"Output: \", w)"
      ]
    },
    {
      "cell_type": "markdown",
      "metadata": {
        "id": "Ev6TIw7oyGzJ"
      },
      "source": [
        "Q9. Write a program to substitute each special character in the given string with the symbol #.\n",
        "\n",
        "    Given: str1 = '/*Modi is @Politician & Melony!!'\n",
        "\n",
        "    Output: ##Modi is #Politician # Melony##"
      ]
    },
    {
      "cell_type": "code",
      "execution_count": 111,
      "metadata": {
        "id": "Hbg92hJtvJE7"
      },
      "outputs": [
        {
          "name": "stdout",
          "output_type": "stream",
          "text": [
            "Output: ##Modi is #Politician # Melony##\n"
          ]
        }
      ],
      "source": [
        "def substitute(input_string):\n",
        "    result = \"\"\n",
        "    for char in input_string:\n",
        "        if char.isalnum() or char.isspace():\n",
        "            result += char\n",
        "        else:\n",
        "            result += '#'\n",
        "    return result\n",
        "str1 = '/*Modi is @Politician & Melony!!'\n",
        "output_string = substitute(str1)\n",
        "print(\"Output:\", output_string)"
      ]
    },
    {
      "cell_type": "markdown",
      "metadata": {
        "id": "L9zg8k_XyoMz"
      },
      "source": [
        "Q10. Construct a Python set that displays elements from both lists as pairs.\n",
        "\n",
        "    Given:\n",
        "\n",
        "    first_list = [2, 3, 4, 5, 6, 7, 8]\n",
        "    second_list = [4, 9, 16, 25, 36, 49, 64]\n",
        "    Output: Result is  {(6, 36), (8, 64), (4, 16), (5, 25), (3, 9), (7, 49), (2, 4)}"
      ]
    },
    {
      "cell_type": "code",
      "execution_count": 115,
      "metadata": {},
      "outputs": [
        {
          "name": "stdout",
          "output_type": "stream",
          "text": [
            "Result is: {(7, 49), (2, 4), (4, 16), (8, 64), (6, 36), (3, 9), (5, 25)}\n"
          ]
        }
      ],
      "source": [
        "def pair(first_list,second_list):\n",
        "    result = set()\n",
        "    for i in range(len(first_list)):\n",
        "        pair = (first_list[i], second_list[i])\n",
        "        result.add(pair)\n",
        "    return result\n",
        "first_list = [2, 3, 4, 5, 6, 7, 8]\n",
        "second_list = [4, 9, 16, 25, 36, 49, 64]\n",
        "result = pair(first_list, second_list)\n",
        "print(\"Result is:\", result)"
      ]
    },
    {
      "cell_type": "markdown",
      "metadata": {
        "id": "JHa0SMOozZo9"
      },
      "source": [
        "Q11. Define two set A and B consisting of 5 elements. Now print the element after performing\n",
        "\n",
        "\n",
        "      1.   A-B\n",
        "      2.   B-A\n",
        "      3.   A∩B\n",
        "      4.   A∪B\n",
        "\n",
        "\n"
      ]
    },
    {
      "cell_type": "code",
      "execution_count": 116,
      "metadata": {
        "id": "r9vL1bpHzZGg"
      },
      "outputs": [
        {
          "name": "stdout",
          "output_type": "stream",
          "text": [
            "A_B:  {1, 4, 5}\n",
            "B-A: {8, 6, 7}\n",
            "A n B : {2, 3}\n",
            "A u B: {1, 2, 3, 4, 5, 6, 7, 8}\n"
          ]
        }
      ],
      "source": [
        "#write here and run the cell\n",
        "A = {1,2,3,4,5}\n",
        "B = {2,3,6,7,8}\n",
        "\n",
        "diff = A-B\n",
        "diff2 = B-A\n",
        "intersection = A & B\n",
        "union = A | B\n",
        "print(\"A_B: \", diff)\n",
        "print(\"B-A:\", diff2)\n",
        "print(\"A n B :\", intersection)\n",
        "print(\"A u B:\", union)"
      ]
    },
    {
      "cell_type": "markdown",
      "metadata": {
        "id": "UFjTtL_i00dz"
      },
      "source": [
        "## Object Oriented Programming Exercise 1:\n",
        "\n",
        "[Classes and Objects in Python](https://pynative.com/python-classes-and-objects/)\n",
        "\n",
        "[Instance variables in Python](https://pynative.com/python-instance-variables/)"
      ]
    },
    {
      "cell_type": "markdown",
      "metadata": {
        "id": "-PQELvq41z5B"
      },
      "source": [
        "Q12. Create a Vehicle class with max_speed and mileage instance attributes."
      ]
    },
    {
      "cell_type": "code",
      "execution_count": 13,
      "metadata": {
        "id": "Wa16l5-C0z3Z"
      },
      "outputs": [
        {
          "name": "stdout",
          "output_type": "stream",
          "text": [
            "Max Speed:180km/h\n",
            "Mileage: 15000km\n"
          ]
        }
      ],
      "source": [
        "#write here and run the cell\n",
        "class Vehicle:\n",
        "    def __init__(self,MAx_speed,mileage):\n",
        "        self.MAx_speed = MAx_speed\n",
        "        self.mileage = mileage\n",
        "car = Vehicle(180,15000)\n",
        "print(f\"Max Speed:{car.MAx_speed}km/h\")\n",
        "print(f\"Mileage: {car.mileage}km\")\n"
      ]
    },
    {
      "cell_type": "markdown",
      "metadata": {
        "id": "-Japqg35177L"
      },
      "source": [
        "Q13. Create a child class Bus that will inherit all of the variables and methods of the Vehicle class.\n",
        "\n",
        "Create a Bus object that will inherit all of the variables and methods of the parent Vehicle class and display it."
      ]
    },
    {
      "cell_type": "code",
      "execution_count": 6,
      "metadata": {
        "id": "nUvpX3qR2Upg"
      },
      "outputs": [
        {
          "name": "stdout",
          "output_type": "stream",
          "text": [
            "Max Speed: 100 km/h\n",
            "Mileage: 20000 km\n"
          ]
        }
      ],
      "source": [
        "#write here and run the cell\n",
        "class Vehicle:\n",
        "    def __init__(self,max_speed,mileage):\n",
        "        self.max_speed = max_speed\n",
        "        self.mileage = mileage\n",
        "    \n",
        "    def display_info(self):\n",
        "        print(f\"Max Speed: {self.max_speed} km/h\")\n",
        "        print(f\"Mileage: {self.mileage} km\")\n",
        "class Bus(Vehicle):\n",
        "    pass\n",
        "school_bus = Bus(100, 20000)\n",
        "\n",
        "school_bus.display_info()\n"
      ]
    },
    {
      "cell_type": "markdown",
      "metadata": {
        "id": "fPFfg2Hh2VBe"
      },
      "source": [
        "### Class Inheritance\n",
        "\n",
        "Q14. Create a Bus class that inherits from the Vehicle class. Give the capacity argument of Bus.seating_capacity() a default value of 50.\n",
        "\n",
        "Use the following code for your parent Vehicle class.\n",
        "\n",
        "    class Vehicle:\n",
        "      def __init__(self, name, max_speed, mileage):\n",
        "          self.name = name\n",
        "          self.max_speed = max_speed\n",
        "          self.mileage = mileage\n",
        "\n",
        "      def seating_capacity(self, capacity):\n",
        "          return f\"The seating capacity of a {self.name} is {capacity} passengers\"\n",
        "\n",
        "Expected Output:\n",
        "\n",
        "    The seating capacity of a bus is 50 passengers"
      ]
    },
    {
      "cell_type": "code",
      "execution_count": 7,
      "metadata": {
        "id": "TKalMy1B2_Ix"
      },
      "outputs": [
        {
          "name": "stdout",
          "output_type": "stream",
          "text": [
            "The seating capacity of a bus is 50 passengers\n"
          ]
        }
      ],
      "source": [
        "#write here and run the cell\n",
        "class Vehicle:\n",
        "      def __init__(self, name, max_speed, mileage):\n",
        "          self.name = name\n",
        "          self.max_speed = max_speed\n",
        "          self.mileage = mileage\n",
        "\n",
        "      def seating_capacity(self, capacity):\n",
        "          return f\"The seating capacity of a {self.name} is {capacity} passengers\"\n",
        "class Bus(Vehicle):\n",
        "     def seating_capacity(self,capacity=50):\n",
        "          return super().seating_capacity(capacity)\n",
        "school_bus = Bus(\"bus\", 100, 20000)\n",
        "print(school_bus.seating_capacity())\n",
        "     "
      ]
    },
    {
      "cell_type": "markdown",
      "metadata": {
        "id": "kenJ766m2_jc"
      },
      "source": [
        "Q15. Create a Bus subclass that inherits from the Vehicle class. By default, the fare for any vehicle is calculated as the seating capacity multiplied by 100. For instances of the Bus class, an additional 10% maintenance fee should be applied to the total fare. Therefore, the final fare for a bus instance will be the sum of the total fare plus an additional 10% of that total fare.\n",
        "\n",
        "Note: The bus has a seating capacity of 50, so the final fare amount should be 5500. You need to override the fare() method from the Vehicle class in the Bus class.\n",
        "\n",
        "Use the provided code for the parent Vehicle class. You should access the parent class within a method of the child class.\n",
        "\n",
        "    class Vehicle:\n",
        "      def __init__(self, name, mileage, capacity):\n",
        "        self.name = name\n",
        "        self.mileage = mileage\n",
        "        self.capacity = capacity\n",
        "\n",
        "      def fare(self):\n",
        "        return self.capacity * 100\n",
        "\n",
        "    class Bus(Vehicle):\n",
        "        pass\n",
        "        School_bus = Bus(\"School Volvo\", 12, 50)\n",
        "        print(\"Total Bus fare is:\", School_bus.fare())\n",
        "\n",
        "    Expected Output:\n",
        "\n",
        "    Total Bus fare is: 5500.0"
      ]
    },
    {
      "cell_type": "code",
      "execution_count": 10,
      "metadata": {
        "id": "jY3Z5SsY_iaQ"
      },
      "outputs": [
        {
          "name": "stdout",
          "output_type": "stream",
          "text": [
            "Total Bus fare is: 5500.0\n"
          ]
        }
      ],
      "source": [
        "#write here and run the cell\n",
        "class Vehicle:\n",
        "    def __init__(self, name, mileage, capacity):\n",
        "        self.name = name\n",
        "        self.mileage = mileage\n",
        "        self.capacity = capacity\n",
        "\n",
        "    def fare(self):\n",
        "        return self.capacity * 100\n",
        "    \n",
        "class Bus(Vehicle):\n",
        "    def fare(self):\n",
        "        b_fare = super().fare() \n",
        "        m_fee = b_fare * 0.10  \n",
        "        return b_fare + m_fee \n",
        "\n",
        "School_bus = Bus(\"School Volvo\", 12, 50)\n",
        "print(\"Total Bus fare is:\", School_bus.fare())\n"
      ]
    },
    {
      "cell_type": "markdown",
      "metadata": {
        "id": "3wMvLEkk_nWE"
      },
      "source": [
        "### Python JSON Exercise\n",
        "Refer: [Python JSON tutorials](https://pynative.com/python/json/)"
      ]
    },
    {
      "cell_type": "markdown",
      "metadata": {
        "id": "zVIiuI0PAcuT"
      },
      "source": [
        "Q16. Convert the following dictionary into JSON format\n",
        "\n",
        "    data = {\"key1\" : \"value1\", \"key2\" : \"value2\"}\n",
        "    data = {\"key1\" : \"value1\", \"key2\" : \"value2\"}"
      ]
    },
    {
      "cell_type": "code",
      "execution_count": 11,
      "metadata": {
        "id": "Z5M47OYS_mhA"
      },
      "outputs": [
        {
          "name": "stdout",
          "output_type": "stream",
          "text": [
            "{\"key1\": \"value1\", \"key2\": \"value2\"}\n"
          ]
        }
      ],
      "source": [
        "#write here and run the cell\n",
        "import json\n",
        "data = {\"key1\": \"value1\", \"key2\": \"value2\"}\n",
        "json_data = json.dumps(data)\n",
        "print(json_data)"
      ]
    },
    {
      "cell_type": "markdown",
      "metadata": {
        "id": "8eE35QccA_X-"
      },
      "source": [
        "Q17. Sort JSON keys in and write them into a file\n",
        "\n",
        "    sampleJson = {\"id\" : 1, \"name\" : \"value2\", \"age\" : 29}\n",
        "\n",
        "    {\n",
        "          \"age\": 29,\n",
        "          \"id\": 1,\n",
        "          \"name\": \"value2\"\n",
        "    }"
      ]
    },
    {
      "cell_type": "code",
      "execution_count": 12,
      "metadata": {
        "id": "jLG5tk_X_j5O"
      },
      "outputs": [
        {
          "name": "stdout",
          "output_type": "stream",
          "text": [
            "{\n",
            "    \"age\": 29,\n",
            "    \"id\": 1,\n",
            "    \"name\": \"value2\"\n",
            "}\n"
          ]
        }
      ],
      "source": [
        "#write here and run the cell\n",
        "import json\n",
        "sampleJson = {\"id\": 1, \"name\": \"value2\", \"age\": 29}\n",
        "sort_Json = json.dumps(sampleJson,indent=4,sort_keys=True)\n",
        "with open(\"sort_sample.json\",\"w\") as file:\n",
        "    file.write(sort_Json)\n",
        "print(sort_Json)\n"
      ]
    }
  ],
  "metadata": {
    "colab": {
      "provenance": []
    },
    "kernelspec": {
      "display_name": "Python 3",
      "name": "python3"
    },
    "language_info": {
      "codemirror_mode": {
        "name": "ipython",
        "version": 3
      },
      "file_extension": ".py",
      "mimetype": "text/x-python",
      "name": "python",
      "nbconvert_exporter": "python",
      "pygments_lexer": "ipython3",
      "version": "3.12.1"
    }
  },
  "nbformat": 4,
  "nbformat_minor": 0
}
