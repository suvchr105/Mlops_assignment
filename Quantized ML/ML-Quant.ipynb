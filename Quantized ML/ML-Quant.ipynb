{
 "cells": [
  {
   "cell_type": "markdown",
   "metadata": {},
   "source": [
    "Import Libraries and Environment Setup"
   ]
  },
  {
   "cell_type": "code",
   "execution_count": 62,
   "metadata": {},
   "outputs": [],
   "source": [
    "import torch\n",
    "import torch.nn as nn\n",
    "import torch.optim as optim\n",
    "from torch.utils.data import DataLoader, TensorDataset\n",
    "from sklearn import datasets\n",
    "from sklearn.model_selection import train_test_split\n",
    "from sklearn.preprocessing import StandardScaler\n",
    "import numpy as np\n",
    "import time\n"
   ]
  },
  {
   "cell_type": "markdown",
   "metadata": {},
   "source": [
    "Data Loading"
   ]
  },
  {
   "cell_type": "code",
   "execution_count": 63,
   "metadata": {},
   "outputs": [],
   "source": [
    "digits = datasets.load_digits()\n",
    "X = digits.data\n",
    "y = digits.target\n",
    "scaler = StandardScaler()\n",
    "X = scaler.fit_transform(X)\n",
    "X_train, X_test, y_train, y_test = train_test_split(X, y, test_size=0.2, random_state=42)\n",
    "X_train_tensor = torch.tensor(X_train, dtype=torch.float32)\n",
    "y_train_tensor = torch.tensor(y_train, dtype=torch.long)\n",
    "X_test_tensor = torch.tensor(X_test, dtype=torch.float32)\n",
    "y_test_tensor = torch.tensor(y_test, dtype=torch.long)\n",
    "train_loader = DataLoader(TensorDataset(X_train_tensor, y_train_tensor), batch_size=32, shuffle=True)\n",
    "test_loader = DataLoader(TensorDataset(X_test_tensor, y_test_tensor), batch_size=32, shuffle=False)\n"
   ]
  },
  {
   "cell_type": "markdown",
   "metadata": {},
   "source": [
    "Model Building : Logistic Regression"
   ]
  },
  {
   "cell_type": "code",
   "execution_count": 64,
   "metadata": {},
   "outputs": [
    {
     "name": "stdout",
     "output_type": "stream",
     "text": [
      "Original Model Accuracy: 0.97\n"
     ]
    }
   ],
   "source": [
    "from sklearn.linear_model import LogisticRegression\n",
    "model = LogisticRegression(max_iter=10000)\n",
    "model.fit(X_train, y_train)\n",
    "accuracy = model.score(X_test, y_test)\n",
    "print(f\"Original Model Accuracy: {accuracy * 1:.2f}\")"
   ]
  },
  {
   "cell_type": "markdown",
   "metadata": {},
   "source": [
    "Logistic_Regression Model Size"
   ]
  },
  {
   "cell_type": "code",
   "execution_count": 65,
   "metadata": {},
   "outputs": [
    {
     "name": "stdout",
     "output_type": "stream",
     "text": [
      "Original Model Size: 5.98 KB\n"
     ]
    }
   ],
   "source": [
    "import joblib\n",
    "import os\n",
    "joblib.dump(model, \"logistic_regression_model.pkl\")\n",
    "model_size = os.path.getsize(\"logistic_regression_model.pkl\")\n",
    "print(f\"Original Model Size: {model_size / 1024:.2f} KB\")"
   ]
  },
  {
   "cell_type": "markdown",
   "metadata": {},
   "source": [
    "Inference time"
   ]
  },
  {
   "cell_type": "code",
   "execution_count": 66,
   "metadata": {},
   "outputs": [
    {
     "name": "stdout",
     "output_type": "stream",
     "text": [
      "Original Model Inference Time: 0.001176 seconds\n"
     ]
    }
   ],
   "source": [
    "start_time = time.time()\n",
    "predictions = model.predict(X_test)\n",
    "end_time = time.time()\n",
    "inference_time = end_time - start_time\n",
    "print(f\"Original Model Inference Time: {inference_time:.6f} seconds\")"
   ]
  },
  {
   "cell_type": "markdown",
   "metadata": {},
   "source": [
    "Quantization Function"
   ]
  },
  {
   "cell_type": "code",
   "execution_count": 67,
   "metadata": {},
   "outputs": [],
   "source": [
    "def quantize_model(model, scale_factor):\n",
    "    quantized_weights = np.round(model.coef_ * scale_factor).astype(np.int8)\n",
    "    return quantized_weights\n"
   ]
  },
  {
   "cell_type": "markdown",
   "metadata": {},
   "source": [
    "Quantized Model Inference Time and Model Accuracy"
   ]
  },
  {
   "cell_type": "code",
   "execution_count": 68,
   "metadata": {},
   "outputs": [
    {
     "name": "stdout",
     "output_type": "stream",
     "text": [
      "Quantized Model Inference Time: 0.001360 seconds\n",
      "Quantized Model Accuracy: 67.22%\n"
     ]
    }
   ],
   "source": [
    "def quantized_inference(X, quantized_weights, scale_factor):\n",
    "    scaled_weights = quantized_weights.astype(np.float32) / scale_factor\n",
    "    logits = np.dot(X, scaled_weights.T) + model.intercept_\n",
    "    return np.argmax(logits, axis=1)\n",
    "scale_factor = 2 ** 7\n",
    "quantized_weights = quantize_model(model, scale_factor)\n",
    "start_time = time.time()\n",
    "quantized_predictions = quantized_inference(X_test, quantized_weights, scale_factor)\n",
    "end_time = time.time()\n",
    "quantized_inference_time = end_time - start_time\n",
    "print(f\"Quantized Model Inference Time: {quantized_inference_time:.6f} seconds\")\n",
    "quantized_accuracy = np.mean(quantized_predictions == y_test)\n",
    "print(f\"Quantized Model Accuracy: {quantized_accuracy * 100:.2f}%\")\n"
   ]
  },
  {
   "cell_type": "markdown",
   "metadata": {},
   "source": [
    "Quantized Model Size"
   ]
  },
  {
   "cell_type": "code",
   "execution_count": 69,
   "metadata": {},
   "outputs": [
    {
     "name": "stdout",
     "output_type": "stream",
     "text": [
      "Quantized Model Size: 0.62 KB\n"
     ]
    }
   ],
   "source": [
    "quantized_model_size = quantized_weights.nbytes\n",
    "print(f\"Quantized Model Size: {quantized_model_size / 1024:.2f} KB\")"
   ]
  },
  {
   "cell_type": "markdown",
   "metadata": {},
   "source": [
    "Report of Quantized vs Original Model"
   ]
  },
  {
   "cell_type": "code",
   "execution_count": 70,
   "metadata": {},
   "outputs": [
    {
     "name": "stdout",
     "output_type": "stream",
     "text": [
      "Original Model Size: 5.98 KB\n",
      "Quantized Model Size: 0.62 KB\n",
      "Original Inference Time: 0.001176 seconds\n",
      "Quantized Inference Time: 0.001360 seconds\n",
      "Original Model Accuracy: 97.22%\n",
      "Quantized Model Accuracy: 67.22%\n"
     ]
    }
   ],
   "source": [
    "print(f\"Original Model Size: {model_size / 1024:.2f} KB\")\n",
    "print(f\"Quantized Model Size: {quantized_model_size / 1024:.2f} KB\")\n",
    "print(f\"Original Inference Time: {inference_time:.6f} seconds\")\n",
    "print(f\"Quantized Inference Time: {quantized_inference_time:.6f} seconds\")\n",
    "print(f\"Original Model Accuracy: {accuracy * 100:.2f}%\")\n",
    "print(f\"Quantized Model Accuracy: {quantized_accuracy * 100:.2f}%\")"
   ]
  }
 ],
 "metadata": {
  "kernelspec": {
   "display_name": "Python 3",
   "language": "python",
   "name": "python3"
  },
  "language_info": {
   "codemirror_mode": {
    "name": "ipython",
    "version": 3
   },
   "file_extension": ".py",
   "mimetype": "text/x-python",
   "name": "python",
   "nbconvert_exporter": "python",
   "pygments_lexer": "ipython3",
   "version": "3.12.1"
  }
 },
 "nbformat": 4,
 "nbformat_minor": 2
}
